{
 "cells": [
  {
   "cell_type": "code",
   "execution_count": 4,
   "metadata": {
    "_cell_guid": "b1076dfc-b9ad-4769-8c92-a6c4dae69d19",
    "_uuid": "8f2839f25d086af736a60e9eeb907d3b93b6e0e5",
    "execution": {
     "iopub.execute_input": "2024-06-07T07:50:36.477944Z",
     "iopub.status.busy": "2024-06-07T07:50:36.477082Z",
     "iopub.status.idle": "2024-06-07T08:03:19.632490Z",
     "shell.execute_reply": "2024-06-07T08:03:19.631485Z",
     "shell.execute_reply.started": "2024-06-07T07:50:36.477908Z"
    },
    "tags": []
   },
   "outputs": [
    {
     "name": "stderr",
     "output_type": "stream",
     "text": [
      "Truncation was not explicitly activated but `max_length` is provided a specific value, please use `truncation=True` to explicitly truncate examples to max length. Defaulting to 'longest_first' truncation strategy. If you encode pairs of sequences (GLUE-style) with the tokenizer you can select this strategy more precisely by providing a specific strategy to `truncation`.\n",
      "/opt/conda/lib/python3.10/site-packages/transformers/tokenization_utils_base.py:2699: FutureWarning: The `pad_to_max_length` argument is deprecated and will be removed in a future version, use `padding=True` or `padding='longest'` to pad to the longest sequence in the batch, or use `padding='max_length'` to pad to a max length. In this case, you can give a specific length with `max_length` (e.g. `max_length=45`) or leave max_length to None to pad to the maximal input size of the model (e.g. 512 for Bert).\n",
      "  warnings.warn(\n"
     ]
    },
    {
     "name": "stdout",
     "output_type": "stream",
     "text": [
      "Epoch 1/6, Loss: 1.7186581136887533\n",
      "Epoch 2/6, Loss: 1.244075699333559\n",
      "Epoch 3/6, Loss: 1.0137851065710972\n",
      "Epoch 4/6, Loss: 0.8393957847565935\n",
      "Epoch 5/6, Loss: 0.7092764347530248\n",
      "Epoch 6/6, Loss: 0.5898335444038374\n"
     ]
    }
   ],
   "source": [
    "import os\n",
    "import csv\n",
    "import re\n",
    "import torch\n",
    "import torch.nn as nn\n",
    "import pandas as pd\n",
    "from torch.utils.data import Dataset, DataLoader\n",
    "from transformers import AutoTokenizer, AutoModel\n",
    "\n",
    "class TextDataset(Dataset):\n",
    "    def __init__(self, texts, labels, tokenizer, max_len):\n",
    "        self.texts = texts\n",
    "        self.labels = labels\n",
    "        self.tokenizer = tokenizer\n",
    "        self.max_len = max_len\n",
    "\n",
    "    def __len__(self):\n",
    "        return len(self.texts)\n",
    "\n",
    "    def __getitem__(self, idx):\n",
    "        encoding = self.tokenizer.encode_plus(\n",
    "            self.texts[idx],\n",
    "            add_special_tokens=True,\n",
    "            max_length=self.max_len,\n",
    "            return_token_type_ids=False,\n",
    "            pad_to_max_length=True,\n",
    "            return_attention_mask=True,\n",
    "            return_tensors='pt'\n",
    "        )\n",
    "\n",
    "        if self.labels is not None:\n",
    "            return {\n",
    "                'text': self.texts[idx],\n",
    "                'input_ids': encoding['input_ids'].flatten(),\n",
    "                'attention_mask': encoding['attention_mask'].flatten(),\n",
    "                'label': torch.tensor(self.labels[idx], dtype=torch.long)\n",
    "            }\n",
    "        else:\n",
    "            return {\n",
    "                'text': self.texts[idx],\n",
    "                'input_ids': encoding['input_ids'].flatten(),\n",
    "                'attention_mask': encoding['attention_mask'].flatten()\n",
    "            }\n",
    "\n",
    "class TextClassifier(nn.Module):\n",
    "    def __init__(self, bert_model, n_classes):\n",
    "        super(TextClassifier, self).__init__()\n",
    "        self.bert = bert_model\n",
    "        self.dropout = nn.Dropout(p=0.3)\n",
    "        self.out = nn.Linear(self.bert.config.hidden_size, n_classes)\n",
    "\n",
    "    def forward(self, input_ids, attention_mask):\n",
    "        outputs = self.bert(input_ids=input_ids, attention_mask=attention_mask)\n",
    "        pooled_output = outputs[1]  # https://huggingface.co/transformers/v3.0.2/model_doc/bert.html#bertmodel\n",
    "        output = self.dropout(pooled_output)\n",
    "        return self.out(output)\n",
    "\n",
    "# Load the data\n",
    "train_df = pd.read_csv('../input/train-test-filled/train_df_filled_null.csv')\n",
    "test_df = pd.read_csv('../input/train-test-filled/test_df_filled_null.csv')\n",
    "\n",
    "train_texts = train_df['text'].tolist()\n",
    "train_labels = train_df['label'].tolist()\n",
    "\n",
    "test_texts = test_df['text'].tolist()\n",
    "test_domains = test_df['domain'].tolist()\n",
    "\n",
    "# Check for CUDA\n",
    "device = torch.device('cuda' if torch.cuda.is_available() else 'cpu')\n",
    "\n",
    "# Load the GreekBERT tokenizer\n",
    "model_name = \"nlpaueb/bert-base-greek-uncased-v1\"\n",
    "tokenizer = AutoTokenizer.from_pretrained(model_name)\n",
    "\n",
    "# Create the train and test datasets and dataloaders\n",
    "train_dataset = TextDataset(train_texts, train_labels, tokenizer, max_len=512)\n",
    "train_loader = DataLoader(train_dataset, batch_size=16, shuffle=True)\n",
    "\n",
    "test_dataset = TextDataset(test_texts, None, tokenizer, max_len=512)\n",
    "test_loader = DataLoader(test_dataset, batch_size=16)\n",
    "\n",
    "# Load the GreekBERT model\n",
    "bert_model = AutoModel.from_pretrained(model_name)\n",
    "\n",
    "# Initialize the sentiment classifier with GreekBERT\n",
    "model = TextClassifier(bert_model, n_classes=9).to(device)\n",
    "\n",
    "# Loss function and optimizer\n",
    "optimizer = torch.optim.Adam(model.parameters(), lr=2e-5)\n",
    "loss_function = torch.nn.CrossEntropyLoss()\n",
    "\n",
    "epochs = 6\n",
    "\n",
    "# Train the model\n",
    "model.train()\n",
    "for epoch in range(epochs):\n",
    "    total_loss = 0\n",
    "    for batch in train_loader:\n",
    "        input_ids = batch['input_ids'].to(device)\n",
    "        attention_mask = batch['attention_mask'].to(device)\n",
    "        labels = batch['label'].to(device)\n",
    "\n",
    "        optimizer.zero_grad()\n",
    "\n",
    "        outputs = model(input_ids=input_ids, attention_mask=attention_mask)\n",
    "        loss = loss_function(outputs, labels)\n",
    "        total_loss += loss.item()\n",
    "\n",
    "        loss.backward()\n",
    "        optimizer.step()\n",
    "\n",
    "    print(f\"Epoch {epoch + 1}/{epochs}, Loss: {total_loss / len(train_loader)}\")\n",
    "\n",
    "# Save the fine-tuned model and tokenizer\n",
    "model_save_path = 'fine_tuned_bert_6'\n",
    "model.bert.save_pretrained(model_save_path)\n",
    "tokenizer.save_pretrained(model_save_path)\n",
    "\n",
    "# Make predictions\n",
    "model.eval()\n",
    "y_pred = []\n",
    "with torch.no_grad():\n",
    "    for batch in test_loader:\n",
    "        input_ids = batch['input_ids'].to(device)\n",
    "        attention_mask = batch['attention_mask'].to(device)\n",
    "\n",
    "        outputs = model(input_ids=input_ids, attention_mask=attention_mask)\n",
    "        y_pred.append(outputs.cpu())\n",
    "\n",
    "y_pred = torch.cat(y_pred, dim=0).numpy()\n",
    "\n",
    "# Write predictions to a file\n",
    "with open('sample_submission.csv', 'w') as csvfile:\n",
    "    writer = csv.writer(csvfile, delimiter=',')\n",
    "    header = ['domain_name'] + [f'class_{i}' for i in range(9)]\n",
    "    writer.writerow(header)\n",
    "    for i, domain in enumerate(test_domains):\n",
    "        row = [domain] + y_pred[i].tolist()\n",
    "        writer.writerow(row)\n"
   ]
  },
  {
   "cell_type": "code",
   "execution_count": 2,
   "metadata": {
    "execution": {
     "iopub.execute_input": "2024-06-07T09:40:12.632052Z",
     "iopub.status.busy": "2024-06-07T09:40:12.631696Z",
     "iopub.status.idle": "2024-06-07T09:40:13.647625Z",
     "shell.execute_reply": "2024-06-07T09:40:13.646850Z",
     "shell.execute_reply.started": "2024-06-07T09:40:12.632025Z"
    }
   },
   "outputs": [],
   "source": []
  },
  {
   "cell_type": "code",
   "execution_count": null,
   "metadata": {},
   "outputs": [],
   "source": []
  }
 ],
 "metadata": {
  "kaggle": {
   "accelerator": "gpu",
   "dataSources": [
    {
     "datasetId": 5145511,
     "sourceId": 8600409,
     "sourceType": "datasetVersion"
    },
    {
     "datasetId": 5152843,
     "sourceId": 8610625,
     "sourceType": "datasetVersion"
    },
    {
     "datasetId": 5160703,
     "sourceId": 8621185,
     "sourceType": "datasetVersion"
    },
    {
     "datasetId": 5161689,
     "sourceId": 8622453,
     "sourceType": "datasetVersion"
    },
    {
     "datasetId": 5164538,
     "sourceId": 8626337,
     "sourceType": "datasetVersion"
    },
    {
     "datasetId": 5164871,
     "sourceId": 8626813,
     "sourceType": "datasetVersion"
    }
   ],
   "dockerImageVersionId": 30733,
   "isGpuEnabled": true,
   "isInternetEnabled": true,
   "language": "python",
   "sourceType": "notebook"
  },
  "kernelspec": {
   "display_name": "Python 3 (ipykernel)",
   "language": "python",
   "name": "python3"
  },
  "language_info": {
   "codemirror_mode": {
    "name": "ipython",
    "version": 3
   },
   "file_extension": ".py",
   "mimetype": "text/x-python",
   "name": "python",
   "nbconvert_exporter": "python",
   "pygments_lexer": "ipython3",
   "version": "3.11.7"
  }
 },
 "nbformat": 4,
 "nbformat_minor": 4
}
