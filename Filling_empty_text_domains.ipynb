{
 "cells": [
  {
   "cell_type": "code",
   "execution_count": null,
   "id": "3964a702-1b61-4f64-bc90-77010d6aafc2",
   "metadata": {},
   "outputs": [],
   "source": [
    "import pandas as pd\n",
    "import networkx as nx\n",
    "import random"
   ]
  },
  {
   "cell_type": "code",
   "execution_count": null,
   "id": "1dd90a87-9596-4999-9a29-7f27c9155d71",
   "metadata": {},
   "outputs": [],
   "source": [
    "# Import the preprocessed CSV files\n",
    "train_df = pd.read_csv('/Users/csykianakis/Desktop/data_challenge/Data Challenge/preprocessed_train_data.csv')\n",
    "test_df = pd.read_csv('/Users/csykianakis/Desktop/data_challenge/Data Challenge/preprocessed_test_data.csv')\n",
    "\n",
    "X_all = train_df['text']\n",
    "y_all = train_df['label']\n",
    "X_test = test_df['text']"
   ]
  },
  {
   "cell_type": "code",
   "execution_count": null,
   "id": "43b47a54-14fc-4def-8e38-1d9c1da18513",
   "metadata": {},
   "outputs": [],
   "source": [
    "#Read edgelist.txt\n",
    "edgelist = pd.read_csv('../input/data-chall-train-test-edgelist/edgelist.txt', delimiter=' ',header=None,names=[\"source\", \"target\"])\n",
    "\n",
    "# Create a directed graph\n",
    "G = nx.read_edgelist('../input/data-chall-train-test-edgelist/edgelist.txt', delimiter=' ', create_using=nx.DiGraph())\n",
    "\n",
    "# print('Number of nodes:', G.number_of_nodes())\n",
    "# print('Number of edges:', G.number_of_edges())"
   ]
  },
  {
   "cell_type": "code",
   "execution_count": null,
   "id": "7fac565e-c087-44cc-b527-09c7e97955b1",
   "metadata": {},
   "outputs": [],
   "source": [
    "for index, row in train_df.iterrows():\n",
    "    G.add_node(row['domain'], text=row['text'])\n",
    "\n",
    "# Step 2: Identify URLs without text\n",
    "urls_without_text = [node for node in G.nodes() if not G.nodes[node].get('text')]\n",
    "\n",
    "# Step 3: Find first-degree neighbors of URLs without text\n",
    "neighbors_with_text = []\n",
    "for url in urls_without_text:\n",
    "    neighbors = list(G.neighbors(url))\n",
    "    for neighbor in neighbors:\n",
    "        if G.nodes[neighbor].get('text'):\n",
    "            neighbors_with_text.append(neighbor)\n",
    "\n",
    "# Step 4: Randomly select text from first-degree neighbors and truncate to a maximum of 1000 words\n",
    "def truncate_text(text, max_words=512):\n",
    "    words = text.split()\n",
    "    if len(words) > max_words:\n",
    "        return ' '.join(words[:max_words])\n",
    "    return text\n",
    "\n",
    "text_choices = [truncate_text(G.nodes[neighbor]['text']) for neighbor in neighbors_with_text]\n",
    "\n",
    "# Step 5: Assign randomly selected truncated text to URLs without text\n",
    "for url in urls_without_text:\n",
    "    if text_choices:  # Check if there are any text choices available\n",
    "        random_text = random.choice(text_choices)\n",
    "        G.nodes[url]['text'] = random_text\n",
    "        train_df.loc[train_df['domain'] == url, 'text'] = random_text\n"
   ]
  },
  {
   "cell_type": "code",
   "execution_count": null,
   "id": "c0fba96a-5a04-4a49-be10-89d505fcafe9",
   "metadata": {},
   "outputs": [],
   "source": [
    "train_df.to_csv('train_df_filled_null.csv', index=False)"
   ]
  },
  {
   "cell_type": "code",
   "execution_count": null,
   "id": "cf44ebbf-4157-4c97-a5a7-c5ee8e817712",
   "metadata": {},
   "outputs": [],
   "source": [
    "for index, row in test_df.iterrows():\n",
    "    G.add_node(row['domain'], text=row['text'])\n",
    "\n",
    "# Step 2: Identify URLs without text\n",
    "urls_without_text = [node for node in G.nodes() if not G.nodes[node].get('text')]\n",
    "\n",
    "# Step 3: Find first-degree neighbors of URLs without text\n",
    "neighbors_with_text = []\n",
    "for url in urls_without_text:\n",
    "    neighbors = list(G.neighbors(url))\n",
    "    for neighbor in neighbors:\n",
    "        if G.nodes[neighbor].get('text'):\n",
    "            neighbors_with_text.append(neighbor)\n",
    "\n",
    "# Step 4: Randomly select text from first-degree neighbors and truncate to a maximum of 1000 words\n",
    "def truncate_text(text, max_words=512):\n",
    "    words = text.split()\n",
    "    if len(words) > max_words:\n",
    "        return ' '.join(words[:max_words])\n",
    "    return text\n",
    "\n",
    "text_choices = [truncate_text(G.nodes[neighbor]['text']) for neighbor in neighbors_with_text]\n",
    "\n",
    "# Step 5: Assign randomly selected truncated text to URLs without text\n",
    "for url in urls_without_text:\n",
    "    if text_choices:  # Check if there are any text choices available\n",
    "        random_text = random.choice(text_choices)\n",
    "        G.nodes[url]['text'] = random_text\n",
    "        test_df.loc[test_df['domain'] == url, 'text'] = random_text"
   ]
  },
  {
   "cell_type": "code",
   "execution_count": null,
   "id": "c3467bca-8c80-428e-8a27-30538049d6c5",
   "metadata": {},
   "outputs": [],
   "source": [
    "test_df.to_csv('test_df_filled_null.csv', index=False)"
   ]
  }
 ],
 "metadata": {
  "kernelspec": {
   "display_name": "Python 3 (ipykernel)",
   "language": "python",
   "name": "python3"
  },
  "language_info": {
   "codemirror_mode": {
    "name": "ipython",
    "version": 3
   },
   "file_extension": ".py",
   "mimetype": "text/x-python",
   "name": "python",
   "nbconvert_exporter": "python",
   "pygments_lexer": "ipython3",
   "version": "3.11.7"
  }
 },
 "nbformat": 4,
 "nbformat_minor": 5
}
