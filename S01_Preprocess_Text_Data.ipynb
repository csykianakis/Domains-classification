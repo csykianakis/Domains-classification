{
 "cells": [
  {
   "cell_type": "markdown",
   "id": "030a6c81",
   "metadata": {},
   "source": [
    "# Text Data Preprocessing Notebook\n",
    "\n",
    "\n",
    "\n",
    "\n",
    "In this notebook, we import and preprocess the text data and write them in 2 new csv files"
   ]
  },
  {
   "cell_type": "code",
   "execution_count": 1,
   "id": "017ab1d8",
   "metadata": {},
   "outputs": [
    {
     "name": "stderr",
     "output_type": "stream",
     "text": [
      "[nltk_data] Downloading package stopwords to\n",
      "[nltk_data]     /Users/mdrepanidou/nltk_data...\n",
      "[nltk_data]   Package stopwords is already up-to-date!\n",
      "[nltk_data] Downloading package wordnet to\n",
      "[nltk_data]     /Users/mdrepanidou/nltk_data...\n",
      "[nltk_data]   Package wordnet is already up-to-date!\n"
     ]
    },
    {
     "data": {
      "text/plain": [
       "True"
      ]
     },
     "execution_count": 1,
     "metadata": {},
     "output_type": "execute_result"
    }
   ],
   "source": [
    "import csv\n",
    "import os\n",
    "import re\n",
    "import zipfile\n",
    "from io import BytesIO\n",
    "from datetime import datetime\n",
    "\n",
    "import numpy as np\n",
    "import pandas as pd\n",
    "import networkx as nx\n",
    "from sklearn.feature_extraction.text import TfidfVectorizer\n",
    "from sklearn.linear_model import LogisticRegression\n",
    "\n",
    "# import spacy\n",
    "# import spacy.cli\n",
    "import subprocess\n",
    "subprocess.run([\"python3\", \"-m\", \"spacy\", \"download\", \"el_core_news_sm\"], stdout=subprocess.DEVNULL, stderr=subprocess.STDOUT)\n",
    "\n",
    "import nltk\n",
    "from nltk.tokenize import word_tokenize\n",
    "from nltk.corpus import stopwords\n",
    "from nltk.stem import WordNetLemmatizer\n",
    "nltk.download('stopwords')\n",
    "nltk.download('wordnet')"
   ]
  },
  {
   "cell_type": "markdown",
   "id": "516b1e05",
   "metadata": {},
   "source": [
    "## Import Data"
   ]
  },
  {
   "cell_type": "code",
   "execution_count": 2,
   "id": "3448c16c",
   "metadata": {},
   "outputs": [],
   "source": [
    "# Specify the directory containing the source data\n",
    "source_data_dir = \"source_data\"\n",
    "\n",
    "# Read training data\n",
    "train_domains = list()\n",
    "y_train = list()\n",
    "with open(os.path.join(source_data_dir, \"train.txt\"), 'r') as f:\n",
    "    for line in f:\n",
    "        l = line.split(',')\n",
    "        train_domains.append(l[0])\n",
    "        y_train.append(l[1][:-1])\n",
    "\n",
    "# Read test data\n",
    "test_domains = list()\n",
    "with open(os.path.join(source_data_dir, \"test.txt\"), 'r') as f:\n",
    "    for line in f:\n",
    "        l = line.split(',')\n",
    "        test_domains.append(l[0])\n",
    "\n",
    "# Read textual content of webpages of domain names\n",
    "text = dict()\n",
    "with zipfile.ZipFile(os.path.join(source_data_dir, 'domains.zip'), \"r\") as zfile:\n",
    "    for filename in zfile.namelist():\n",
    "        if re.search(r'\\.zip$', filename) is not None:\n",
    "            zfiledata = BytesIO(zfile.read(filename))\n",
    "            with zipfile.ZipFile(zfiledata) as zfile2:\n",
    "                text[filename[:-4]] = ''\n",
    "                for name2 in zfile2.namelist():\n",
    "                    file = zfile2.read(name2)\n",
    "                    text[filename[:-4]] += file.decode('utf16') + ' '\n"
   ]
  },
  {
   "cell_type": "code",
   "execution_count": 3,
   "id": "1efdaf94",
   "metadata": {},
   "outputs": [
    {
     "name": "stdout",
     "output_type": "stream",
     "text": [
      "Training data sites with textual information: 1506\n",
      "Training data sites without textual information: 306\n",
      "Test data sites with textual information: 507\n",
      "Test data sites without textual information: 98\n"
     ]
    }
   ],
   "source": [
    "train_data_with_text = sum(1 for domain in train_domains if domain in text)\n",
    "test_data_with_text = sum(1 for domain in test_domains if domain in text)\n",
    "\n",
    "print(\"Training data sites with textual information:\", train_data_with_text)\n",
    "print(\"Training data sites without textual information:\", len(train_domains) - train_data_with_text)\n",
    "print(\"Test data sites with textual information:\", test_data_with_text)\n",
    "print(\"Test data sites without textual information:\", len(test_domains) - test_data_with_text)"
   ]
  },
  {
   "cell_type": "code",
   "execution_count": 4,
   "id": "e13bf523",
   "metadata": {},
   "outputs": [
    {
     "name": "stdout",
     "output_type": "stream",
     "text": [
      "Training data:\n",
      "Min length: 0\n",
      "Max length: 1866042\n",
      "Standard deviation: 125891.71505317815\n",
      "Test data:\n",
      "Min length: 0\n",
      "Max length: 3118605\n",
      "Standard deviation: 202899.9708303952\n"
     ]
    }
   ],
   "source": [
    "# Retrieve textual content of domain names of the training set\n",
    "train_data_lengths = [len(text[domain]) if domain in text else 0 for domain in train_domains]\n",
    "\n",
    "# Retrieve textual content of domain names of the test set\n",
    "test_data_lengths = [len(text[domain]) if domain in text else 0 for domain in test_domains]\n",
    "\n",
    "# Calculate statistics\n",
    "min_length_train = np.min(train_data_lengths)\n",
    "max_length_train = np.max(train_data_lengths)\n",
    "std_length_train = np.std(train_data_lengths)\n",
    "min_length_test = np.min(test_data_lengths)\n",
    "max_length_test = np.max(test_data_lengths)\n",
    "std_length_test = np.std(test_data_lengths)\n",
    "\n",
    "print(\"Training data:\")\n",
    "print(\"Min length:\", min_length_train)\n",
    "print(\"Max length:\", max_length_train)\n",
    "print(\"Standard deviation:\", std_length_train)\n",
    "print(\"Test data:\")\n",
    "print(\"Min length:\", min_length_test)\n",
    "print(\"Max length:\", max_length_test)\n",
    "print(\"Standard deviation:\", std_length_test)"
   ]
  },
  {
   "cell_type": "code",
   "execution_count": 5,
   "id": "54ea5c43",
   "metadata": {},
   "outputs": [
    {
     "data": {
      "image/png": "[encoded data removed]",
      "text/plain": [
       "<Figure size 1000x600 with 1 Axes>"
      ]
     },
     "metadata": {},
     "output_type": "display_data"
    }
   ],
   "source": [
    "import matplotlib.pyplot as plt\n",
    "\n",
    "# Filter out text entries with length 0\n",
    "filtered_train_data_lengths = [length for length in train_data_lengths if length > 0]\n",
    "filtered_test_data_lengths = [length for length in test_data_lengths if length > 0]\n",
    "\n",
    "# Plot histograms of filtered text lengths\n",
    "plt.figure(figsize=(10, 6))\n",
    "plt.hist(filtered_train_data_lengths, bins=100, alpha=0.5, color='blue', label='Training data')\n",
    "plt.hist(filtered_test_data_lengths, bins=100, alpha=0.5, color='red', label='Test data')\n",
    "plt.title('Distribution of Text Lengths (Excluding Length 0)')\n",
    "plt.xlabel('Text Length')\n",
    "plt.ylabel('Frequency')\n",
    "plt.legend()\n",
    "plt.xlim(0, 1e6)\n",
    "# plt.ylim(0, 2)\n",
    "plt.show()\n"
   ]
  },
  {
   "cell_type": "code",
   "execution_count": 26,
   "id": "a7757685",
   "metadata": {},
   "outputs": [
    {
     "data": {
      "image/png": "[encoded data removed]",
      "text/plain": [
       "<Figure size 1000x500 with 1 Axes>"
      ]
     },
     "metadata": {},
     "output_type": "display_data"
    }
   ],
   "source": [
    "# Compute label counts and percentages\n",
    "label_counts = np.unique(y_train, return_counts=True)\n",
    "labels, counts = label_counts\n",
    "total_samples = len(y_train)\n",
    "percentages = (counts / total_samples) * 100\n",
    "\n",
    "# Plot the bar plot\n",
    "plt.figure(figsize=(10, 5))\n",
    "plt.bar(labels, counts, color='skyblue')\n",
    "\n",
    "# Annotate each bar with count and percentage\n",
    "for label, count, percent in zip(labels, counts, percentages):\n",
    "    plt.text(label, count + 0.5, f'{count} \\n ({percent:.1f}%)', ha='center', va='bottom')\n",
    "\n",
    "plt.title('Label Counts in Train Set')\n",
    "plt.ylim((0,620))\n",
    "plt.tight_layout()\n",
    "plt.show()\n"
   ]
  },
  {
   "cell_type": "code",
   "execution_count": 32,
   "id": "dd113b44",
   "metadata": {},
   "outputs": [
    {
     "data": {
      "image/png": "[encoded data removed]",
      "text/plain": [
       "<Figure size 1000x500 with 1 Axes>"
      ]
     },
     "metadata": {},
     "output_type": "display_data"
    }
   ],
   "source": [
    "# Compute the average text length per label\n",
    "label_lengths = {}\n",
    "for label, length in zip(y_train, train_data_lengths):\n",
    "    if label not in label_lengths:\n",
    "        label_lengths[label] = []\n",
    "    label_lengths[label].append(length)\n",
    "\n",
    "# Calculate the average text length for each label\n",
    "average_lengths = {label: np.mean(lengths) for label, lengths in label_lengths.items()}\n",
    "\n",
    "# Sort the dictionary by keys (labels) in ascending order\n",
    "sorted_average_lengths = dict(sorted(average_lengths.items()))\n",
    "\n",
    "# Plot the bar plot\n",
    "plt.figure(figsize=(10, 5))\n",
    "plt.bar(sorted_average_lengths.keys(), sorted_average_lengths.values(), color='skyblue')\n",
    "\n",
    "# Annotate each bar with the average text length\n",
    "for label, length in sorted_average_lengths.items():\n",
    "    plt.text(label, length + 0.5, f'{length:.0f}', ha='center', va='bottom')\n",
    "\n",
    "plt.title('Average Text Length per Label in Train Set')\n",
    "plt.ylim((0,100000))\n",
    "plt.tight_layout()\n",
    "plt.show()"
   ]
  },
  {
   "cell_type": "markdown",
   "id": "98a34cb4",
   "metadata": {},
   "source": [
    "## Preprocessing Function"
   ]
  },
  {
   "cell_type": "code",
   "execution_count": 32,
   "id": "2d3d4e2f",
   "metadata": {},
   "outputs": [],
   "source": [
    "def preprocess_text(text):\n",
    "    \n",
    "    # Convert to Lower Case\n",
    "    text = text.lower()  \n",
    "    \n",
    "    # Replace line breaks, underscores, and *#* with space\n",
    "    text = text.replace('\\n', ' ').replace('*#*', ' ').replace(r'[-_]', ' ')\n",
    "    \n",
    "    # Remove html tags\n",
    "    text = re.sub(r'\\S*https?:\\S*','', text)\n",
    "    \n",
    "    # Remove punctuation\n",
    "    text = re.sub(r'<.*?>', ' ', text)\n",
    "    \n",
    "    # Remove numbers\n",
    "    text = re.sub(r'\\d+', ' ', text)\n",
    "    \n",
    "    # Remove any symbols\n",
    "    text = re.sub(r'\\W', ' ', text)\n",
    "    \n",
    "    # Keep only characters\n",
    "    text = re.sub(r'[^A-Ωα-ωάΆώίέήόύ]', ' ', text)\n",
    "    \n",
    "    # Remove words three letters and below\n",
    "    text = re.sub(r'\\b\\w{1,3}\\b', '', text)\n",
    "    \n",
    "    # Remove multiple spaces\n",
    "    text = re.sub(r'\\s+', ' ', text)\n",
    "\n",
    "    # Use spaCy for part-of-speech tagging and lemmatization\n",
    "    nlp = spacy.load(\"el_core_news_sm\")\n",
    "    nlp.max_length = max(max_length_train, max_length_test)\n",
    "    doc = nlp(text)\n",
    "    tokens = [token.lemma_ if token.pos_ != \"PROPN\" else token.text for token in doc]                \n",
    "                \n",
    "    # Remove Stop Words\n",
    "    stop_words = set(stopwords.words('greek'))\n",
    "    tokens = [w for w in tokens if not w in stop_words]        \n",
    "            \n",
    "    # Re-forming the sentences\n",
    "    text = ' '.join(tokens)\n",
    "    \n",
    "    return text"
   ]
  },
  {
   "cell_type": "markdown",
   "id": "3bac5127",
   "metadata": {},
   "source": [
    "## Create Train & Test Data Frames"
   ]
  },
  {
   "cell_type": "code",
   "execution_count": 33,
   "id": "15335a2e",
   "metadata": {},
   "outputs": [
    {
     "name": "stdout",
     "output_type": "stream",
     "text": [
      "The total processing execution time was: 0:48:54.862667\n"
     ]
    }
   ],
   "source": [
    "start_time = datetime.now()\n",
    "\n",
    "# Retrieve textual content of domain names of the training set\n",
    "train_data = list()\n",
    "for domain in train_domains:\n",
    "    if domain in text:\n",
    "        train_data.append((domain, preprocess_text(text[domain])))\n",
    "    else:\n",
    "        train_data.append((domain, 'No textual information'))\n",
    "\n",
    "# Retrieve textual content of domain names of the test set\n",
    "test_data = list()\n",
    "\n",
    "for domain in test_domains:\n",
    "    if domain in text:\n",
    "        test_data.append((domain, preprocess_text(text[domain])))\n",
    "    else:\n",
    "        test_data.append((domain, 'No textual information'))\n",
    "\n",
    "\n",
    "print('The total processing execution time was:', datetime.now() - start_time) "
   ]
  },
  {
   "cell_type": "code",
   "execution_count": 48,
   "id": "8ffe6f2c",
   "metadata": {},
   "outputs": [],
   "source": [
    "# To reduce memory \n",
    "text = None  "
   ]
  },
  {
   "cell_type": "code",
   "execution_count": 35,
   "id": "377362f5",
   "metadata": {},
   "outputs": [],
   "source": [
    "# Create DataFrame for training data\n",
    "train_df = pd.DataFrame({'domain': train_domains,\n",
    "                         'text': [item[1] for item in train_data],\n",
    "                         'label': y_train})\n",
    "\n",
    "# Create DataFrame for test data\n",
    "test_df = pd.DataFrame({'domain': [item[0] for item in test_data], \n",
    "                        'text': [item[1] for item in test_data]})\n"
   ]
  },
  {
   "cell_type": "code",
   "execution_count": 83,
   "id": "dc8c374d",
   "metadata": {},
   "outputs": [
    {
     "name": "stdout",
     "output_type": "stream",
     "text": [
      "(1812, 3)\n"
     ]
    },
    {
     "data": {
      "text/html": [
       "<div>\n",
       "<style scoped>\n",
       "    .dataframe tbody tr th:only-of-type {\n",
       "        vertical-align: middle;\n",
       "    }\n",
       "\n",
       "    .dataframe tbody tr th {\n",
       "        vertical-align: top;\n",
       "    }\n",
       "\n",
       "    .dataframe thead th {\n",
       "        text-align: right;\n",
       "    }\n",
       "</style>\n",
       "<table border=\"1\" class=\"dataframe\">\n",
       "  <thead>\n",
       "    <tr style=\"text-align: right;\">\n",
       "      <th></th>\n",
       "      <th>domain</th>\n",
       "      <th>text</th>\n",
       "      <th>label</th>\n",
       "    </tr>\n",
       "  </thead>\n",
       "  <tbody>\n",
       "    <tr>\n",
       "      <th>0</th>\n",
       "      <td>autocarnet.gr</td>\n",
       "      <td>συμπληρώστε ερωτηματολόγιο αξιοπιστίας αυτοκ...</td>\n",
       "      <td>0</td>\n",
       "    </tr>\n",
       "    <tr>\n",
       "      <th>1</th>\n",
       "      <td>queen.gr</td>\n",
       "      <td>νικολέττα ράλλη μεταφέρω εμπειρία φωτογραφία...</td>\n",
       "      <td>5</td>\n",
       "    </tr>\n",
       "    <tr>\n",
       "      <th>2</th>\n",
       "      <td>aggeliorama.gr</td>\n",
       "      <td>εξοπλισμός επιχείρηση πάτρα αχαΐα ελλάδα πωλ...</td>\n",
       "      <td>5</td>\n",
       "    </tr>\n",
       "    <tr>\n",
       "      <th>3</th>\n",
       "      <td>bikerspoint.gr</td>\n",
       "      <td>προτείνω ένας φίλος ζελατίνας καλάθις έχω κα...</td>\n",
       "      <td>0</td>\n",
       "    </tr>\n",
       "    <tr>\n",
       "      <th>4</th>\n",
       "      <td>athensgo.gr</td>\n",
       "      <td>γυναίκα ψήφισαν αυτός είμαι σημείο οποίος λα...</td>\n",
       "      <td>3</td>\n",
       "    </tr>\n",
       "  </tbody>\n",
       "</table>\n",
       "</div>"
      ],
      "text/plain": [
       "           domain                                               text label\n",
       "0   autocarnet.gr    συμπληρώστε ερωτηματολόγιο αξιοπιστίας αυτοκ...     0\n",
       "1        queen.gr    νικολέττα ράλλη μεταφέρω εμπειρία φωτογραφία...     5\n",
       "2  aggeliorama.gr    εξοπλισμός επιχείρηση πάτρα αχαΐα ελλάδα πωλ...     5\n",
       "3  bikerspoint.gr    προτείνω ένας φίλος ζελατίνας καλάθις έχω κα...     0\n",
       "4     athensgo.gr    γυναίκα ψήφισαν αυτός είμαι σημείο οποίος λα...     3"
      ]
     },
     "execution_count": 83,
     "metadata": {},
     "output_type": "execute_result"
    }
   ],
   "source": [
    "print(train_df.shape)\n",
    "train_df.head()"
   ]
  },
  {
   "cell_type": "code",
   "execution_count": 84,
   "id": "d957ad0e",
   "metadata": {},
   "outputs": [
    {
     "name": "stdout",
     "output_type": "stream",
     "text": [
      "(605, 2)\n"
     ]
    },
    {
     "data": {
      "text/html": [
       "<div>\n",
       "<style scoped>\n",
       "    .dataframe tbody tr th:only-of-type {\n",
       "        vertical-align: middle;\n",
       "    }\n",
       "\n",
       "    .dataframe tbody tr th {\n",
       "        vertical-align: top;\n",
       "    }\n",
       "\n",
       "    .dataframe thead th {\n",
       "        text-align: right;\n",
       "    }\n",
       "</style>\n",
       "<table border=\"1\" class=\"dataframe\">\n",
       "  <thead>\n",
       "    <tr style=\"text-align: right;\">\n",
       "      <th></th>\n",
       "      <th>domain</th>\n",
       "      <th>text</th>\n",
       "    </tr>\n",
       "  </thead>\n",
       "  <tbody>\n",
       "    <tr>\n",
       "      <th>0</th>\n",
       "      <td>startupper.gr</td>\n",
       "      <td>είστε εκατ ευρώ χρηματοδότηση εκατ ευρώ χρημ...</td>\n",
       "    </tr>\n",
       "    <tr>\n",
       "      <th>1</th>\n",
       "      <td>artware.gr</td>\n",
       "      <td>ελληνικα σχεδίαση ετικέτα κρασιού δημοσιευνω...</td>\n",
       "    </tr>\n",
       "    <tr>\n",
       "      <th>2</th>\n",
       "      <td>oneirokritis.blogspot.gr</td>\n",
       "      <td>ονειρα κόσμος συναισθήματος μέσα έχω επίδρασ...</td>\n",
       "    </tr>\n",
       "    <tr>\n",
       "      <th>3</th>\n",
       "      <td>kali-ellada.blogspot.gr</td>\n",
       "      <td>σε ο πλατανιά απέδειξαν όνειρα γίνομαι πραγμ...</td>\n",
       "    </tr>\n",
       "    <tr>\n",
       "      <th>4</th>\n",
       "      <td>ote.gr</td>\n",
       "      <td>No textual information</td>\n",
       "    </tr>\n",
       "  </tbody>\n",
       "</table>\n",
       "</div>"
      ],
      "text/plain": [
       "                     domain                                               text\n",
       "0             startupper.gr    είστε εκατ ευρώ χρηματοδότηση εκατ ευρώ χρημ...\n",
       "1                artware.gr    ελληνικα σχεδίαση ετικέτα κρασιού δημοσιευνω...\n",
       "2  oneirokritis.blogspot.gr    ονειρα κόσμος συναισθήματος μέσα έχω επίδρασ...\n",
       "3   kali-ellada.blogspot.gr    σε ο πλατανιά απέδειξαν όνειρα γίνομαι πραγμ...\n",
       "4                    ote.gr                             No textual information"
      ]
     },
     "execution_count": 84,
     "metadata": {},
     "output_type": "execute_result"
    }
   ],
   "source": [
    "print(test_df.shape)\n",
    "test_df.head()"
   ]
  },
  {
   "cell_type": "markdown",
   "id": "c84e1f90",
   "metadata": {},
   "source": [
    "## Export clean data to csv"
   ]
  },
  {
   "cell_type": "code",
   "execution_count": 85,
   "id": "39bc8d6c",
   "metadata": {},
   "outputs": [],
   "source": [
    "# Write preprocessed data frames to a CSV files\n",
    "train_df.to_csv('preprocessed_train_data.csv', index=False)\n",
    "test_df.to_csv('preprocessed_test_data.csv', index=False)"
   ]
  },
  {
   "cell_type": "code",
   "execution_count": null,
   "id": "61fd7b42",
   "metadata": {},
   "outputs": [],
   "source": []
  }
 ],
 "metadata": {
  "kernelspec": {
   "display_name": "Python 3 (ipykernel)",
   "language": "python",
   "name": "python3"
  },
  "language_info": {
   "codemirror_mode": {
    "name": "ipython",
    "version": 3
   },
   "file_extension": ".py",
   "mimetype": "text/x-python",
   "name": "python",
   "nbconvert_exporter": "python",
   "pygments_lexer": "ipython3",
   "version": "3.10.7"
  }
 },
 "nbformat": 4,
 "nbformat_minor": 5
}
